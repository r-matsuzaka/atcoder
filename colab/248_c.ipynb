{
  "nbformat": 4,
  "nbformat_minor": 0,
  "metadata": {
    "colab": {
      "name": "248-c.ipynb",
      "provenance": [],
      "authorship_tag": "ABX9TyPEcALSzzFVZeGIaAL1L5a2",
      "include_colab_link": true
    },
    "kernelspec": {
      "name": "python3",
      "display_name": "Python 3"
    },
    "language_info": {
      "name": "python"
    }
  },
  "cells": [
    {
      "cell_type": "markdown",
      "metadata": {
        "id": "view-in-github",
        "colab_type": "text"
      },
      "source": [
        "<a href=\"https://colab.research.google.com/github/r-matsuzaka/atcoder/blob/main/colab/248_c.ipynb\" target=\"_parent\"><img src=\"https://colab.research.google.com/assets/colab-badge.svg\" alt=\"Open In Colab\"/></a>"
      ]
    },
    {
      "cell_type": "markdown",
      "source": [
        "# [C - Dice Sum](https://atcoder.jp/contests/abc248/tasks/abc248_c)"
      ],
      "metadata": {
        "id": "ZM54yxamg_nd"
      }
    },
    {
      "cell_type": "code",
      "source": [
        ""
      ],
      "metadata": {
        "id": "PJsErr-JhBbh"
      },
      "execution_count": null,
      "outputs": []
    },
    {
      "cell_type": "markdown",
      "source": [
        "# Reference\n",
        "- [【応用】指定した合計値になる整数の組合せ](https://math.nakaken88.com/textbook/expert-combination-of-integers-whose-sum-is-the-given-value/#i-3)\n",
        "- [個数制限がある場合の重複組合せの総数を動的計画法で求める](https://www.sambaiz.net/article/306/)\n",
        "- [Python/Ruby/PHP/Golang(Go)で上限のある重複組み合わせ](https://qiita.com/hiroykam/items/3886d6a213cd593fdfab)"
      ],
      "metadata": {
        "id": "WRURVAbchMxT"
      }
    }
  ]
}