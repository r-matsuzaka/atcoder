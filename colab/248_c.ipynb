{
  "nbformat": 4,
  "nbformat_minor": 0,
  "metadata": {
    "colab": {
      "name": "248-c.ipynb",
      "provenance": [],
      "authorship_tag": "ABX9TyPGQyRfREGcD09e1Ask0dZU",
      "include_colab_link": true
    },
    "kernelspec": {
      "name": "python3",
      "display_name": "Python 3"
    },
    "language_info": {
      "name": "python"
    }
  },
  "cells": [
    {
      "cell_type": "markdown",
      "metadata": {
        "id": "view-in-github",
        "colab_type": "text"
      },
      "source": [
        "<a href=\"https://colab.research.google.com/github/r-matsuzaka/atcoder/blob/main/colab/248_c.ipynb\" target=\"_parent\"><img src=\"https://colab.research.google.com/assets/colab-badge.svg\" alt=\"Open In Colab\"/></a>"
      ]
    },
    {
      "cell_type": "markdown",
      "source": [
        "# [C - Dice Sum](https://atcoder.jp/contests/abc248/tasks/abc248_c)\n",
        "## [解説](https://atcoder.jp/contests/abc248/editorial/3745)\n",
        "## [解説(包助原理)](https://atcoder.jp/contests/abc248/editorial/3818)"
      ],
      "metadata": {
        "id": "ZM54yxamg_nd"
      }
    },
    {
      "cell_type": "code",
      "source": [
        "# マス目上の最短経路の本数\n",
        "# N×N のマス目において、左上のマスから右下のマスまで最短で至る経路の本数\n",
        "# 配るDPの場合\n",
        "\n",
        "import numpy as np\n",
        "\n",
        "N = 3\n",
        "\n",
        "dp = [[0]*N]*N\n",
        "dp = np.array(dp)\n",
        "\n",
        "dp[0,0]= 1\n",
        "\n",
        "for i in range(N):\n",
        "  for j in range(N):\n",
        "    if i - 1 >= 0:\n",
        "      dp[i][j] += dp[i-1][j]\n",
        "    if j - 1 >= 0:\n",
        "      dp[i][j] += dp[i][j-1]\n",
        "\n",
        "print(dp)\n",
        "ans = dp[N-1][N-1]\n",
        "print(ans)"
      ],
      "metadata": {
        "id": "PJsErr-JhBbh",
        "outputId": "644eea7e-c884-4e61-88cc-7c4cc7aad5b0",
        "colab": {
          "base_uri": "https://localhost:8080/"
        }
      },
      "execution_count": 1,
      "outputs": [
        {
          "output_type": "stream",
          "name": "stdout",
          "text": [
            "[[1 1 1]\n",
            " [1 2 3]\n",
            " [1 3 6]]\n",
            "6\n"
          ]
        }
      ]
    },
    {
      "cell_type": "code",
      "source": [
        "# 解法1:包助原理の解法\n",
        "# 答えが合わない\n",
        "\n",
        "import functools as ft\n",
        "\n",
        "\n",
        "def permutation(n, k):\n",
        "    if k > n:\n",
        "        return 0\n",
        "    elif 0 < k <= n:\n",
        "        return ft.reduce(lambda x, y:x * y, [n - v for v in range(k)])\n",
        "    else:\n",
        "        return 1\n",
        "\n",
        "\n",
        "def factorial(n):\n",
        "    return permutation(n, n - 1)\n",
        "\n",
        "\n",
        "def combination(n, k):\n",
        "    return int(permutation(n, k) / factorial(k))\n",
        "\n",
        "\n",
        "def combination_with_limit(N, M, K):\n",
        "    return sum([(-1)**L * combination(K-M*L, N) * combination(N, L) for L in range(N+1)])\n",
        "\n",
        "# N, M, K = (2, 3, 4)\n",
        "N, M, K = (321, 41, 592)\n",
        "pattern = combination_with_limit(N, M, K)\n",
        "ans = pattern%998244353\n",
        "print(ans==798416518)"
      ],
      "metadata": {
        "id": "ooU25_W6qQYK",
        "outputId": "51be58b1-38f9-490b-8833-5f5d02a5c5aa",
        "colab": {
          "base_uri": "https://localhost:8080/"
        }
      },
      "execution_count": 2,
      "outputs": [
        {
          "output_type": "stream",
          "name": "stdout",
          "text": [
            "False\n"
          ]
        }
      ]
    },
    {
      "cell_type": "markdown",
      "source": [
        "# Reference\n",
        "- [【応用】指定した合計値になる整数の組合せ](https://math.nakaken88.com/textbook/expert-combination-of-integers-whose-sum-is-the-given-value/#i-3)\n",
        "- [個数制限がある場合の重複組合せの総数を動的計画法で求める](https://www.sambaiz.net/article/306/)\n",
        "- [Python/Ruby/PHP/Golang(Go)で上限のある重複組み合わせ](https://qiita.com/hiroykam/items/3886d6a213cd593fdfab)\n",
        "- [貰う DP と配る DP](https://algo-method.com/descriptions/78)"
      ],
      "metadata": {
        "id": "WRURVAbchMxT"
      }
    }
  ]
}