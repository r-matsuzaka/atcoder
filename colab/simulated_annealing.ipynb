{
  "nbformat": 4,
  "nbformat_minor": 0,
  "metadata": {
    "colab": {
      "name": "simulated_annealing.ipynb",
      "provenance": [],
      "toc_visible": true,
      "authorship_tag": "ABX9TyNVhJSvNytZUYUrsJ/kqrUO",
      "include_colab_link": true
    },
    "kernelspec": {
      "name": "python3",
      "display_name": "Python 3"
    },
    "language_info": {
      "name": "python"
    }
  },
  "cells": [
    {
      "cell_type": "markdown",
      "metadata": {
        "id": "view-in-github",
        "colab_type": "text"
      },
      "source": [
        "<a href=\"https://colab.research.google.com/github/r-matsuzaka/atcoder/blob/main/colab/simulated_annealing.ipynb\" target=\"_parent\"><img src=\"https://colab.research.google.com/assets/colab-badge.svg\" alt=\"Open In Colab\"/></a>"
      ]
    },
    {
      "cell_type": "markdown",
      "source": [
        "# Simulated Annealing\n",
        "[Introduction to Heuristics Contest](https://atcoder.jp/contests/intro-heuristics)"
      ],
      "metadata": {
        "id": "G6St6dRAsWHh"
      }
    },
    {
      "cell_type": "code",
      "source": [
        "# Implementing..."
      ],
      "metadata": {
        "id": "x6n-RCKst6-F"
      },
      "execution_count": 1,
      "outputs": []
    },
    {
      "cell_type": "markdown",
      "source": [
        "# 参考文献\n",
        "- [Simulated Annealing From Scratch in Python](https://machinelearningmastery.com/simulated-annealing-from-scratch-in-python/)\n",
        "- [Introduction to Heuristics Contest](https://atcoder.jp/contests/intro-heuristics)\n",
        "- [焼きなまし法のコツ Ver. 1.3](https://shindannin.hatenadiary.com/entry/2021/03/06/115415)\n",
        "- [誰でもできる焼きなまし法](https://gasin.hatenadiary.jp/entry/2019/09/03/162613)\n",
        "- [Simulated Annealing Algorithm Explained from Scratch (Python)](https://www.machinelearningplus.com/machine-learning/simulated-annealing-algorithm-explained-from-scratch-python/)\n",
        "\n"
      ],
      "metadata": {
        "id": "DpgXqjEbsZWZ"
      }
    }
  ]
}