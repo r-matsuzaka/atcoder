{
  "nbformat": 4,
  "nbformat_minor": 0,
  "metadata": {
    "colab": {
      "name": "249.ipynb",
      "provenance": [],
      "authorship_tag": "ABX9TyNneNWLYJyp4o0UNyUITWqI",
      "include_colab_link": true
    },
    "kernelspec": {
      "name": "python3",
      "display_name": "Python 3"
    },
    "language_info": {
      "name": "python"
    }
  },
  "cells": [
    {
      "cell_type": "markdown",
      "metadata": {
        "id": "view-in-github",
        "colab_type": "text"
      },
      "source": [
        "<a href=\"https://colab.research.google.com/github/r-matsuzaka/atcoder/blob/main/colab/249.ipynb\" target=\"_parent\"><img src=\"https://colab.research.google.com/assets/colab-badge.svg\" alt=\"Open In Colab\"/></a>"
      ]
    },
    {
      "cell_type": "markdown",
      "source": [
        "[モノグサプログラミングコンテスト2022（AtCoder Beginner Contest 249）](https://atcoder.jp/contests/abc249)"
      ],
      "metadata": {
        "id": "-QFvLoXfoTKB"
      }
    },
    {
      "cell_type": "markdown",
      "source": [
        "# A"
      ],
      "metadata": {
        "id": "K3QE0KhJYxov"
      }
    },
    {
      "cell_type": "code",
      "source": [
        "sampleinput = '4 3 3 6 2 5 10\\n'# Takahashi\n",
        "#sampleinput = '3 1 4 1 5 9 2\\n'# Aoki\n",
        "#sampleinput = '1 1 1 1 1 1 1\\n'# Draw"
      ],
      "metadata": {
        "id": "MPzciaNfTPxm"
      },
      "execution_count": 1,
      "outputs": []
    },
    {
      "cell_type": "code",
      "source": [
        "IN = iter(sampleinput.split('\\n')).__next__\n",
        "def input():\n",
        "    return IN()"
      ],
      "metadata": {
        "id": "R51HFEOCNS9w"
      },
      "execution_count": 2,
      "outputs": []
    },
    {
      "cell_type": "code",
      "source": [
        "s = input()\n",
        "print(s)\n",
        "a, b, c, d, e, f, x = [int(s) for s in s.split(\" \")]\n",
        "a, b, c, d, e, f, x\n",
        "\n",
        "# takahashi a,b,c\n",
        "# aoki d,e,f"
      ],
      "metadata": {
        "colab": {
          "base_uri": "https://localhost:8080/"
        },
        "id": "w-LJDXZsNV2K",
        "outputId": "0c912c9a-63a1-4577-bacb-bc4f62b62437"
      },
      "execution_count": 3,
      "outputs": [
        {
          "output_type": "stream",
          "name": "stdout",
          "text": [
            "4 3 3 6 2 5 10\n"
          ]
        },
        {
          "output_type": "execute_result",
          "data": {
            "text/plain": [
              "(4, 3, 3, 6, 2, 5, 10)"
            ]
          },
          "metadata": {},
          "execution_count": 3
        }
      ]
    },
    {
      "cell_type": "code",
      "source": [
        "from copy import deepcopy\n",
        "d1 = 0\n",
        "d2 = 0\n",
        "t1 = deepcopy(x)\n",
        "t2 = deepcopy(x)\n",
        "\n",
        "while t1 > 0:\n",
        "  if t1 > a:\n",
        "    d1 += b*a\n",
        "  elif t1 <= a:\n",
        "    d1 += b*t1\n",
        "  t1 -= a\n",
        "  t1 -= c\n",
        "print(d1)"
      ],
      "metadata": {
        "colab": {
          "base_uri": "https://localhost:8080/"
        },
        "id": "Da-yHN7EVGvj",
        "outputId": "e138932d-b17e-4603-df0c-e4d6c78867ba"
      },
      "execution_count": 4,
      "outputs": [
        {
          "output_type": "stream",
          "name": "stdout",
          "text": [
            "21\n"
          ]
        }
      ]
    },
    {
      "cell_type": "code",
      "source": [
        "while t2 > 0:\n",
        "  if t2 > d:\n",
        "    d2 += e*d\n",
        "  elif t2 <= d:\n",
        "    d2 += e*t2\n",
        "  t2 -= d\n",
        "  t2 -= f\n",
        "print(d2)"
      ],
      "metadata": {
        "colab": {
          "base_uri": "https://localhost:8080/"
        },
        "id": "9CYPIXliVPOA",
        "outputId": "a5b4e486-f4cd-415e-fbe9-16e66180c490"
      },
      "execution_count": 5,
      "outputs": [
        {
          "output_type": "stream",
          "name": "stdout",
          "text": [
            "12\n"
          ]
        }
      ]
    },
    {
      "cell_type": "code",
      "source": [
        "if d1 > d2:\n",
        "  print(\"Takahashi\")\n",
        "elif d1 < d2:\n",
        "  print(\"Aoki\")\n",
        "elif d1 == d2:\n",
        "  print(\"Draw\")"
      ],
      "metadata": {
        "colab": {
          "base_uri": "https://localhost:8080/"
        },
        "id": "Nr3MZ3xFVpv5",
        "outputId": "a756e745-b587-47db-8a1b-ca22c480f89d"
      },
      "execution_count": 6,
      "outputs": [
        {
          "output_type": "stream",
          "name": "stdout",
          "text": [
            "Takahashi\n"
          ]
        }
      ]
    },
    {
      "cell_type": "markdown",
      "source": [
        "# D"
      ],
      "metadata": {
        "id": "8-Z9UixzYzQo"
      }
    },
    {
      "cell_type": "code",
      "source": [
        "# Aiを２つの数に因数分解\n",
        "# ２つの数がともに、Aiを除く整数列に含まれているか探す\n",
        "# "
      ],
      "metadata": {
        "id": "XxdiaSL_Y07R"
      },
      "execution_count": 7,
      "outputs": []
    },
    {
      "cell_type": "markdown",
      "source": [
        "# B"
      ],
      "metadata": {
        "id": "svbC8kirh9b5"
      }
    },
    {
      "cell_type": "code",
      "source": [
        "sampleinput = 'AtCoder\\n'\n",
        "#sampleinput = 'Aa\\n'\n",
        "sampleinput = 'atcoder\\n'\n",
        "sampleinput = 'Perfect\\n'\n",
        "\n",
        "IN = iter(sampleinput.split('\\n')).__next__\n",
        "\n",
        "def input():\n",
        "    return IN()\n",
        "\n",
        "s = input()\n",
        "print(s)\n",
        "\n",
        "def is_same(s):\n",
        "  l = list(s)\n",
        "  ans = len(l) != len(set(l))\n",
        "\n",
        "  return ans"
      ],
      "metadata": {
        "colab": {
          "base_uri": "https://localhost:8080/"
        },
        "id": "Yo4BidBxiBqg",
        "outputId": "ba8f0832-2eeb-4ad8-a50a-bc47d8b29cf2"
      },
      "execution_count": 8,
      "outputs": [
        {
          "output_type": "stream",
          "name": "stdout",
          "text": [
            "Perfect\n"
          ]
        }
      ]
    },
    {
      "cell_type": "code",
      "source": [
        "if s.islower():\n",
        "  print(\"No\")\n",
        "  \n",
        "elif s.isupper():\n",
        "  print(\"No\")\n",
        "\n",
        "elif is_same(s):\n",
        "  print(\"No\")\n",
        "\n",
        "else:\n",
        "  print(\"Yes\")"
      ],
      "metadata": {
        "colab": {
          "base_uri": "https://localhost:8080/"
        },
        "id": "T92dzEQqiTh3",
        "outputId": "f68689ad-5e87-45bf-ca1d-55a9d7b0adf0"
      },
      "execution_count": 9,
      "outputs": [
        {
          "output_type": "stream",
          "name": "stdout",
          "text": [
            "No\n"
          ]
        }
      ]
    },
    {
      "cell_type": "markdown",
      "source": [
        "# C"
      ],
      "metadata": {
        "id": "hIVkuGyBlu24"
      }
    },
    {
      "cell_type": "code",
      "source": [
        ""
      ],
      "metadata": {
        "id": "GYvNLuhilwYG"
      },
      "execution_count": 9,
      "outputs": []
    }
  ]
}