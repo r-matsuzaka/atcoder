{
  "nbformat": 4,
  "nbformat_minor": 0,
  "metadata": {
    "colab": {
      "name": "249.ipynb",
      "provenance": [],
      "authorship_tag": "ABX9TyNYBygFcuYeHX+JT6GZv2R7",
      "include_colab_link": true
    },
    "kernelspec": {
      "name": "python3",
      "display_name": "Python 3"
    },
    "language_info": {
      "name": "python"
    }
  },
  "cells": [
    {
      "cell_type": "markdown",
      "metadata": {
        "id": "view-in-github",
        "colab_type": "text"
      },
      "source": [
        "<a href=\"https://colab.research.google.com/github/r-matsuzaka/atcoder/blob/main/colab/249.ipynb\" target=\"_parent\"><img src=\"https://colab.research.google.com/assets/colab-badge.svg\" alt=\"Open In Colab\"/></a>"
      ]
    },
    {
      "cell_type": "markdown",
      "source": [
        "[モノグサプログラミングコンテスト2022（AtCoder Beginner Contest 249）](https://atcoder.jp/contests/abc249)"
      ],
      "metadata": {
        "id": "-QFvLoXfoTKB"
      }
    },
    {
      "cell_type": "markdown",
      "source": [
        "# A"
      ],
      "metadata": {
        "id": "K3QE0KhJYxov"
      }
    },
    {
      "cell_type": "code",
      "source": [
        "sampleinput = '4 3 3 6 2 5 10\\n'# Takahashi\n",
        "#sampleinput = '3 1 4 1 5 9 2\\n'# Aoki\n",
        "#sampleinput = '1 1 1 1 1 1 1\\n'# Draw"
      ],
      "metadata": {
        "id": "MPzciaNfTPxm"
      },
      "execution_count": 1,
      "outputs": []
    },
    {
      "cell_type": "code",
      "source": [
        "IN = iter(sampleinput.split('\\n')).__next__\n",
        "def input():\n",
        "    return IN()"
      ],
      "metadata": {
        "id": "R51HFEOCNS9w"
      },
      "execution_count": 2,
      "outputs": []
    },
    {
      "cell_type": "code",
      "source": [
        "s = input()\n",
        "print(s)\n",
        "a, b, c, d, e, f, x = [int(s) for s in s.split(\" \")]\n",
        "a, b, c, d, e, f, x\n",
        "\n",
        "# takahashi a,b,c\n",
        "# aoki d,e,f"
      ],
      "metadata": {
        "colab": {
          "base_uri": "https://localhost:8080/"
        },
        "id": "w-LJDXZsNV2K",
        "outputId": "05c27aad-df49-4f56-df9f-5179674737c6"
      },
      "execution_count": 3,
      "outputs": [
        {
          "output_type": "stream",
          "name": "stdout",
          "text": [
            "4 3 3 6 2 5 10\n"
          ]
        },
        {
          "output_type": "execute_result",
          "data": {
            "text/plain": [
              "(4, 3, 3, 6, 2, 5, 10)"
            ]
          },
          "metadata": {},
          "execution_count": 3
        }
      ]
    },
    {
      "cell_type": "code",
      "source": [
        "from copy import deepcopy\n",
        "d1 = 0\n",
        "d2 = 0\n",
        "t1 = deepcopy(x)\n",
        "t2 = deepcopy(x)\n",
        "\n",
        "while t1 > 0:\n",
        "  if t1 > a:\n",
        "    d1 += b*a\n",
        "  elif t1 <= a:\n",
        "    d1 += b*t1\n",
        "  t1 -= a\n",
        "  t1 -= c\n",
        "print(d1)"
      ],
      "metadata": {
        "colab": {
          "base_uri": "https://localhost:8080/"
        },
        "id": "Da-yHN7EVGvj",
        "outputId": "b525be3d-9a02-484b-9eef-d3a0dc7c4ff8"
      },
      "execution_count": 4,
      "outputs": [
        {
          "output_type": "stream",
          "name": "stdout",
          "text": [
            "21\n"
          ]
        }
      ]
    },
    {
      "cell_type": "code",
      "source": [
        "while t2 > 0:\n",
        "  if t2 > d:\n",
        "    d2 += e*d\n",
        "  elif t2 <= d:\n",
        "    d2 += e*t2\n",
        "  t2 -= d\n",
        "  t2 -= f\n",
        "print(d2)"
      ],
      "metadata": {
        "colab": {
          "base_uri": "https://localhost:8080/"
        },
        "id": "9CYPIXliVPOA",
        "outputId": "7cca0813-2b99-4be1-b2d1-ae7649b89505"
      },
      "execution_count": 5,
      "outputs": [
        {
          "output_type": "stream",
          "name": "stdout",
          "text": [
            "12\n"
          ]
        }
      ]
    },
    {
      "cell_type": "code",
      "source": [
        "if d1 > d2:\n",
        "  print(\"Takahashi\")\n",
        "elif d1 < d2:\n",
        "  print(\"Aoki\")\n",
        "elif d1 == d2:\n",
        "  print(\"Draw\")"
      ],
      "metadata": {
        "colab": {
          "base_uri": "https://localhost:8080/"
        },
        "id": "Nr3MZ3xFVpv5",
        "outputId": "5ba03d19-9bdf-4d14-9f21-e859b90c65a5"
      },
      "execution_count": 6,
      "outputs": [
        {
          "output_type": "stream",
          "name": "stdout",
          "text": [
            "Takahashi\n"
          ]
        }
      ]
    },
    {
      "cell_type": "markdown",
      "source": [
        "# D"
      ],
      "metadata": {
        "id": "8-Z9UixzYzQo"
      }
    },
    {
      "cell_type": "code",
      "source": [
        "# Aiを２つの数に因数分解\n",
        "# ２つの数がともに、Aiを除く整数列に含まれているか探す\n",
        "# "
      ],
      "metadata": {
        "id": "XxdiaSL_Y07R"
      },
      "execution_count": 7,
      "outputs": []
    },
    {
      "cell_type": "markdown",
      "source": [
        "# B"
      ],
      "metadata": {
        "id": "svbC8kirh9b5"
      }
    },
    {
      "cell_type": "code",
      "source": [
        "sampleinput = 'AtCoder\\n'\n",
        "#sampleinput = 'Aa\\n'\n",
        "sampleinput = 'atcoder\\n'\n",
        "sampleinput = 'Perfect\\n'\n",
        "\n",
        "IN = iter(sampleinput.split('\\n')).__next__\n",
        "\n",
        "def input():\n",
        "    return IN()\n",
        "\n",
        "s = input()\n",
        "print(s)\n",
        "\n",
        "def is_same(s):\n",
        "  l = list(s)\n",
        "  ans = len(l) != len(set(l))\n",
        "\n",
        "  return ans"
      ],
      "metadata": {
        "colab": {
          "base_uri": "https://localhost:8080/"
        },
        "id": "Yo4BidBxiBqg",
        "outputId": "4af6f9ec-055f-488b-9170-283b28b93a2e"
      },
      "execution_count": 8,
      "outputs": [
        {
          "output_type": "stream",
          "name": "stdout",
          "text": [
            "Perfect\n"
          ]
        }
      ]
    },
    {
      "cell_type": "code",
      "source": [
        "if s.islower():\n",
        "  print(\"No\")\n",
        "  \n",
        "elif s.isupper():\n",
        "  print(\"No\")\n",
        "\n",
        "elif is_same(s):\n",
        "  print(\"No\")\n",
        "\n",
        "else:\n",
        "  print(\"Yes\")"
      ],
      "metadata": {
        "colab": {
          "base_uri": "https://localhost:8080/"
        },
        "id": "T92dzEQqiTh3",
        "outputId": "4c232923-8382-4750-900d-ec14ba88faa3"
      },
      "execution_count": 9,
      "outputs": [
        {
          "output_type": "stream",
          "name": "stdout",
          "text": [
            "No\n"
          ]
        }
      ]
    },
    {
      "cell_type": "markdown",
      "source": [
        "# [C - Just K](https://atcoder.jp/contests/abc249/tasks/abc249_c)"
      ],
      "metadata": {
        "id": "hIVkuGyBlu24"
      }
    },
    {
      "cell_type": "code",
      "source": [
        "product_list = [\"A\", \"B\", \"C\"]\n",
        "N = len(product_list)\n",
        "\n",
        "# 全部同じbit演算\n",
        "# 左シフト：二進数の桁数を増やす\n",
        "print(1 << N)\n",
        "print(bin(0b1 << N))\n",
        "print(0b1 << N)\n",
        "\n",
        "\"\"\"\n",
        "i \n",
        "0  0000\n",
        "1  0001\n",
        "2  0010\n",
        "3  0011\n",
        "4  0100\n",
        "5  0101\n",
        "6  0110\n",
        "7  0111\n",
        "\"\"\"\n",
        "\n",
        "for i in range(1 << N):\n",
        "    buy_list = []\n",
        "    for j in range(N):\n",
        "        # 右シフト：二進数の桁数を減らす\n",
        "        # 右に一つずつシフトしていって、末尾が1かどうかを判定することにより、indexを取得\n",
        "        if i >> j & 1:\n",
        "            buy_list.append(product_list[j])\n",
        "    print(buy_list)"
      ],
      "metadata": {
        "id": "GYvNLuhilwYG",
        "outputId": "4d978c3f-0499-4aaa-ede8-896f1b9834e9",
        "colab": {
          "base_uri": "https://localhost:8080/"
        }
      },
      "execution_count": 10,
      "outputs": [
        {
          "output_type": "stream",
          "name": "stdout",
          "text": [
            "8\n",
            "0b1000\n",
            "8\n",
            "[]\n",
            "['A']\n",
            "['B']\n",
            "['A', 'B']\n",
            "['C']\n",
            "['A', 'C']\n",
            "['B', 'C']\n",
            "['A', 'B', 'C']\n"
          ]
        }
      ]
    },
    {
      "cell_type": "code",
      "source": [
        "# sampleinput = '4 2\\n'\\\n",
        "#               'abi\\n'\\\n",
        "#               'aef\\n'\\\n",
        "#               'bc\\n'\\\n",
        "#               'acg\\n'\n",
        "\n",
        "sampleinput = '5 2\\n'\\\n",
        "              'abpqxyz\\n'\\\n",
        "              'az\\n'\\\n",
        "              'pq\\n'\\\n",
        "              'bc\\n'\\\n",
        "              'cy\\n'\n",
        "\n",
        "IN = iter(sampleinput.split('\\n')).__next__\n",
        "\n",
        "def input():\n",
        "    return IN()\n",
        "\n",
        "\n",
        "from collections import Counter\n",
        "\n",
        "N, K = [int(s) for s in input().split(\" \")]\n",
        "# print(N, K)\n",
        "s_list = []\n",
        "for _ in range(N):\n",
        "  s_list.append(input())\n",
        "\n",
        "# print(s_list)\n",
        "\n",
        "ans = 0\n",
        "for i in range(1 << N):\n",
        "    chosen_s_list = []\n",
        "    for j in range(N):\n",
        "        # 右シフト：二進数の桁数を減らす\n",
        "        # 右に一つずつシフトしていって、末尾が1かどうかを判定することにより、indexを取得\n",
        "        if i >> j & 1:\n",
        "            chosen_s_list.append(s_list[j])\n",
        "    chosen_s = ''.join(chosen_s_list)\n",
        "    cnt_dict = dict(Counter(chosen_s))\n",
        "    # print(cnt_dict)\n",
        "    keys = [k for k, v in cnt_dict.items() if v == K]\n",
        "\n",
        "    if len(keys) > ans:\n",
        "      ans = len(keys)\n",
        "print(ans)"
      ],
      "metadata": {
        "id": "86usMID1ObKT",
        "outputId": "27d99b98-9bdf-4e4a-a585-1234ccd6e80c",
        "colab": {
          "base_uri": "https://localhost:8080/"
        }
      },
      "execution_count": 11,
      "outputs": [
        {
          "output_type": "stream",
          "name": "stdout",
          "text": [
            "7\n"
          ]
        }
      ]
    },
    {
      "cell_type": "markdown",
      "source": [
        "## Ref\n",
        "- [アルゴリズム #1 bit全探索[python][AtCoder]](https://zenn.dev/ksk1993/articles/964418f8d6ac80)\n",
        "- [文字列を１文字ずつのリストにする](https://qiita.com/cress_cc/items/*5600be0416a0be72ecfb*)\n",
        "- [【Python】 特定の文字や文字列の出現回数を数える（count）](https://hibiki-press.tech/python/count/103)\n",
        "- [Pythonで辞書の値からキーを抽出](https://note.nkmk.me/python-dict-get-key-from-value/)"
      ],
      "metadata": {
        "id": "jBQ1Kag3R46C"
      }
    }
  ]
}