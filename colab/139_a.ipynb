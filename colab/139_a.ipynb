{
  "nbformat": 4,
  "nbformat_minor": 0,
  "metadata": {
    "colab": {
      "name": "139_a.ipynb",
      "provenance": [],
      "authorship_tag": "ABX9TyMa9lbureQA5vP36s8S0pbN",
      "include_colab_link": true
    },
    "kernelspec": {
      "name": "python3",
      "display_name": "Python 3"
    },
    "language_info": {
      "name": "python"
    }
  },
  "cells": [
    {
      "cell_type": "markdown",
      "metadata": {
        "id": "view-in-github",
        "colab_type": "text"
      },
      "source": [
        "<a href=\"https://colab.research.google.com/github/r-matsuzaka/atcoder/blob/main/colab/139_a.ipynb\" target=\"_parent\"><img src=\"https://colab.research.google.com/assets/colab-badge.svg\" alt=\"Open In Colab\"/></a>"
      ]
    },
    {
      "cell_type": "markdown",
      "source": [
        "# [A - Trailing Zeros](https://atcoder.jp/contests/arc139/tasks/arc139_a)"
      ],
      "metadata": {
        "id": "6dGrQEXyx5fE"
      }
    },
    {
      "cell_type": "code",
      "execution_count": 1,
      "metadata": {
        "id": "6dIi8XYuhC2n"
      },
      "outputs": [],
      "source": [
        "sampleinput = '4\\n'\\\n",
        "              '0 1 3 2\\n'\n",
        "\n",
        "sampleinput = '5\\n'\\\n",
        "              '4 3 2 1 0\\n'\n",
        "\n",
        "sampleinput = '1\\n'\\\n",
        "              '40\\n'\n",
        "\n",
        "sampleinput = '8\\n'\\\n",
        "              '2 0 2 2 0 4 2 4\\n'\n",
        "\n",
        "IN = iter(sampleinput.split('\\n')).__next__\n",
        "def input():\n",
        "    return IN()"
      ]
    },
    {
      "cell_type": "code",
      "source": [
        "N = int(input())\n",
        "items = [int(s) for s in input().split(\" \")]\n",
        "items"
      ],
      "metadata": {
        "colab": {
          "base_uri": "https://localhost:8080/"
        },
        "id": "SRscbBhKiPou",
        "outputId": "05c4b509-81fe-40fd-b657-75963423cf74"
      },
      "execution_count": 2,
      "outputs": [
        {
          "output_type": "execute_result",
          "data": {
            "text/plain": [
              "[2, 0, 2, 2, 0, 4, 2, 4]"
            ]
          },
          "metadata": {},
          "execution_count": 2
        }
      ]
    },
    {
      "cell_type": "code",
      "source": [
        "ans = 1\n",
        "for i in range(N):\n",
        "  tmp = 1\n",
        "  tmp <<= items[i]\n",
        "  if tmp > ans:\n",
        "    ans = tmp\n",
        "\n",
        "  else:\n",
        "    if items[i] < items[i-1]:\n",
        "      ans += tmp\n",
        "    else:\n",
        "      add = 1\n",
        "      keta = len(bin(ans)) - 2\n",
        "      add <<= keta\n",
        "      ans = tmp + add\n",
        "print(ans)"
      ],
      "metadata": {
        "colab": {
          "base_uri": "https://localhost:8080/"
        },
        "id": "7NTHgQiXikED",
        "outputId": "7091009e-2064-440b-8382-e86ff2a492a4"
      },
      "execution_count": 3,
      "outputs": [
        {
          "output_type": "stream",
          "name": "stdout",
          "text": [
            "80\n"
          ]
        }
      ]
    },
    {
      "cell_type": "code",
      "source": [
        "a = 0b100\n",
        "a"
      ],
      "metadata": {
        "colab": {
          "base_uri": "https://localhost:8080/"
        },
        "id": "7D8nDL7Fv5Sk",
        "outputId": "4d0650c2-a3d9-44bc-8fe9-b95a544227ff"
      },
      "execution_count": 4,
      "outputs": [
        {
          "output_type": "execute_result",
          "data": {
            "text/plain": [
              "4"
            ]
          },
          "metadata": {},
          "execution_count": 4
        }
      ]
    },
    {
      "cell_type": "code",
      "source": [
        "len(bin(a))"
      ],
      "metadata": {
        "colab": {
          "base_uri": "https://localhost:8080/"
        },
        "id": "aNkB1Cvvv830",
        "outputId": "543b13c2-4dbe-439d-c722-5b83a346ce53"
      },
      "execution_count": 5,
      "outputs": [
        {
          "output_type": "execute_result",
          "data": {
            "text/plain": [
              "5"
            ]
          },
          "metadata": {},
          "execution_count": 5
        }
      ]
    }
  ]
}